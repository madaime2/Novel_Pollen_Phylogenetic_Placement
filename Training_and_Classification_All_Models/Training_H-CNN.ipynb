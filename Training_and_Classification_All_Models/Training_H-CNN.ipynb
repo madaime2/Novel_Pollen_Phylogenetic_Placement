{
  "nbformat": 4,
  "nbformat_minor": 0,
  "metadata": {
    "colab": {
      "provenance": [],
      "mount_file_id": "1Pe5ohzFm_J3-2mXoZbO9nfdohGGBzijH",
      "authorship_tag": "ABX9TyMxNzwFL/CN6t0YBiEzB5FB",
      "include_colab_link": true
    },
    "kernelspec": {
      "name": "python3",
      "display_name": "Python 3"
    },
    "language_info": {
      "name": "python"
    },
    "accelerator": "GPU",
    "gpuClass": "standard",
    "widgets": {
      "application/vnd.jupyter.widget-state+json": {
        "83322e740e9540f9801983f14c95d2c6": {
          "model_module": "@jupyter-widgets/controls",
          "model_name": "HBoxModel",
          "model_module_version": "1.5.0",
          "state": {
            "_dom_classes": [],
            "_model_module": "@jupyter-widgets/controls",
            "_model_module_version": "1.5.0",
            "_model_name": "HBoxModel",
            "_view_count": null,
            "_view_module": "@jupyter-widgets/controls",
            "_view_module_version": "1.5.0",
            "_view_name": "HBoxView",
            "box_style": "",
            "children": [
              "IPY_MODEL_b59e731089ca48a29380bf0e6861cda2",
              "IPY_MODEL_b893a7c313374592a7edfdf0fda97b9b",
              "IPY_MODEL_0b465f70d9f24bbcb377c8438277b41f"
            ],
            "layout": "IPY_MODEL_713c7e8d4a3440f38ac5b1d3010fc822"
          }
        },
        "b59e731089ca48a29380bf0e6861cda2": {
          "model_module": "@jupyter-widgets/controls",
          "model_name": "HTMLModel",
          "model_module_version": "1.5.0",
          "state": {
            "_dom_classes": [],
            "_model_module": "@jupyter-widgets/controls",
            "_model_module_version": "1.5.0",
            "_model_name": "HTMLModel",
            "_view_count": null,
            "_view_module": "@jupyter-widgets/controls",
            "_view_module_version": "1.5.0",
            "_view_name": "HTMLView",
            "description": "",
            "description_tooltip": null,
            "layout": "IPY_MODEL_a85c512113d44a1da844a9eb2ca02344",
            "placeholder": "​",
            "style": "IPY_MODEL_8462353bd5814b0e8a61a21513dcc60a",
            "value": "100%"
          }
        },
        "b893a7c313374592a7edfdf0fda97b9b": {
          "model_module": "@jupyter-widgets/controls",
          "model_name": "FloatProgressModel",
          "model_module_version": "1.5.0",
          "state": {
            "_dom_classes": [],
            "_model_module": "@jupyter-widgets/controls",
            "_model_module_version": "1.5.0",
            "_model_name": "FloatProgressModel",
            "_view_count": null,
            "_view_module": "@jupyter-widgets/controls",
            "_view_module_version": "1.5.0",
            "_view_name": "ProgressView",
            "bar_style": "success",
            "description": "",
            "description_tooltip": null,
            "layout": "IPY_MODEL_897a9d357a9f4583b62eddffe87d9e29",
            "max": 356082095,
            "min": 0,
            "orientation": "horizontal",
            "style": "IPY_MODEL_54d2deea4c6a4255bfb4b58470183af7",
            "value": 356082095
          }
        },
        "0b465f70d9f24bbcb377c8438277b41f": {
          "model_module": "@jupyter-widgets/controls",
          "model_name": "HTMLModel",
          "model_module_version": "1.5.0",
          "state": {
            "_dom_classes": [],
            "_model_module": "@jupyter-widgets/controls",
            "_model_module_version": "1.5.0",
            "_model_name": "HTMLModel",
            "_view_count": null,
            "_view_module": "@jupyter-widgets/controls",
            "_view_module_version": "1.5.0",
            "_view_name": "HTMLView",
            "description": "",
            "description_tooltip": null,
            "layout": "IPY_MODEL_8e924522f8414e59ad82b5592e1f0e14",
            "placeholder": "​",
            "style": "IPY_MODEL_d18fb486ab664aa6ba83c6f188379463",
            "value": " 340M/340M [00:03&lt;00:00, 97.6MB/s]"
          }
        },
        "713c7e8d4a3440f38ac5b1d3010fc822": {
          "model_module": "@jupyter-widgets/base",
          "model_name": "LayoutModel",
          "model_module_version": "1.2.0",
          "state": {
            "_model_module": "@jupyter-widgets/base",
            "_model_module_version": "1.2.0",
            "_model_name": "LayoutModel",
            "_view_count": null,
            "_view_module": "@jupyter-widgets/base",
            "_view_module_version": "1.2.0",
            "_view_name": "LayoutView",
            "align_content": null,
            "align_items": null,
            "align_self": null,
            "border": null,
            "bottom": null,
            "display": null,
            "flex": null,
            "flex_flow": null,
            "grid_area": null,
            "grid_auto_columns": null,
            "grid_auto_flow": null,
            "grid_auto_rows": null,
            "grid_column": null,
            "grid_gap": null,
            "grid_row": null,
            "grid_template_areas": null,
            "grid_template_columns": null,
            "grid_template_rows": null,
            "height": null,
            "justify_content": null,
            "justify_items": null,
            "left": null,
            "margin": null,
            "max_height": null,
            "max_width": null,
            "min_height": null,
            "min_width": null,
            "object_fit": null,
            "object_position": null,
            "order": null,
            "overflow": null,
            "overflow_x": null,
            "overflow_y": null,
            "padding": null,
            "right": null,
            "top": null,
            "visibility": null,
            "width": null
          }
        },
        "a85c512113d44a1da844a9eb2ca02344": {
          "model_module": "@jupyter-widgets/base",
          "model_name": "LayoutModel",
          "model_module_version": "1.2.0",
          "state": {
            "_model_module": "@jupyter-widgets/base",
            "_model_module_version": "1.2.0",
            "_model_name": "LayoutModel",
            "_view_count": null,
            "_view_module": "@jupyter-widgets/base",
            "_view_module_version": "1.2.0",
            "_view_name": "LayoutView",
            "align_content": null,
            "align_items": null,
            "align_self": null,
            "border": null,
            "bottom": null,
            "display": null,
            "flex": null,
            "flex_flow": null,
            "grid_area": null,
            "grid_auto_columns": null,
            "grid_auto_flow": null,
            "grid_auto_rows": null,
            "grid_column": null,
            "grid_gap": null,
            "grid_row": null,
            "grid_template_areas": null,
            "grid_template_columns": null,
            "grid_template_rows": null,
            "height": null,
            "justify_content": null,
            "justify_items": null,
            "left": null,
            "margin": null,
            "max_height": null,
            "max_width": null,
            "min_height": null,
            "min_width": null,
            "object_fit": null,
            "object_position": null,
            "order": null,
            "overflow": null,
            "overflow_x": null,
            "overflow_y": null,
            "padding": null,
            "right": null,
            "top": null,
            "visibility": null,
            "width": null
          }
        },
        "8462353bd5814b0e8a61a21513dcc60a": {
          "model_module": "@jupyter-widgets/controls",
          "model_name": "DescriptionStyleModel",
          "model_module_version": "1.5.0",
          "state": {
            "_model_module": "@jupyter-widgets/controls",
            "_model_module_version": "1.5.0",
            "_model_name": "DescriptionStyleModel",
            "_view_count": null,
            "_view_module": "@jupyter-widgets/base",
            "_view_module_version": "1.2.0",
            "_view_name": "StyleView",
            "description_width": ""
          }
        },
        "897a9d357a9f4583b62eddffe87d9e29": {
          "model_module": "@jupyter-widgets/base",
          "model_name": "LayoutModel",
          "model_module_version": "1.2.0",
          "state": {
            "_model_module": "@jupyter-widgets/base",
            "_model_module_version": "1.2.0",
            "_model_name": "LayoutModel",
            "_view_count": null,
            "_view_module": "@jupyter-widgets/base",
            "_view_module_version": "1.2.0",
            "_view_name": "LayoutView",
            "align_content": null,
            "align_items": null,
            "align_self": null,
            "border": null,
            "bottom": null,
            "display": null,
            "flex": null,
            "flex_flow": null,
            "grid_area": null,
            "grid_auto_columns": null,
            "grid_auto_flow": null,
            "grid_auto_rows": null,
            "grid_column": null,
            "grid_gap": null,
            "grid_row": null,
            "grid_template_areas": null,
            "grid_template_columns": null,
            "grid_template_rows": null,
            "height": null,
            "justify_content": null,
            "justify_items": null,
            "left": null,
            "margin": null,
            "max_height": null,
            "max_width": null,
            "min_height": null,
            "min_width": null,
            "object_fit": null,
            "object_position": null,
            "order": null,
            "overflow": null,
            "overflow_x": null,
            "overflow_y": null,
            "padding": null,
            "right": null,
            "top": null,
            "visibility": null,
            "width": null
          }
        },
        "54d2deea4c6a4255bfb4b58470183af7": {
          "model_module": "@jupyter-widgets/controls",
          "model_name": "ProgressStyleModel",
          "model_module_version": "1.5.0",
          "state": {
            "_model_module": "@jupyter-widgets/controls",
            "_model_module_version": "1.5.0",
            "_model_name": "ProgressStyleModel",
            "_view_count": null,
            "_view_module": "@jupyter-widgets/base",
            "_view_module_version": "1.2.0",
            "_view_name": "StyleView",
            "bar_color": null,
            "description_width": ""
          }
        },
        "8e924522f8414e59ad82b5592e1f0e14": {
          "model_module": "@jupyter-widgets/base",
          "model_name": "LayoutModel",
          "model_module_version": "1.2.0",
          "state": {
            "_model_module": "@jupyter-widgets/base",
            "_model_module_version": "1.2.0",
            "_model_name": "LayoutModel",
            "_view_count": null,
            "_view_module": "@jupyter-widgets/base",
            "_view_module_version": "1.2.0",
            "_view_name": "LayoutView",
            "align_content": null,
            "align_items": null,
            "align_self": null,
            "border": null,
            "bottom": null,
            "display": null,
            "flex": null,
            "flex_flow": null,
            "grid_area": null,
            "grid_auto_columns": null,
            "grid_auto_flow": null,
            "grid_auto_rows": null,
            "grid_column": null,
            "grid_gap": null,
            "grid_row": null,
            "grid_template_areas": null,
            "grid_template_columns": null,
            "grid_template_rows": null,
            "height": null,
            "justify_content": null,
            "justify_items": null,
            "left": null,
            "margin": null,
            "max_height": null,
            "max_width": null,
            "min_height": null,
            "min_width": null,
            "object_fit": null,
            "object_position": null,
            "order": null,
            "overflow": null,
            "overflow_x": null,
            "overflow_y": null,
            "padding": null,
            "right": null,
            "top": null,
            "visibility": null,
            "width": null
          }
        },
        "d18fb486ab664aa6ba83c6f188379463": {
          "model_module": "@jupyter-widgets/controls",
          "model_name": "DescriptionStyleModel",
          "model_module_version": "1.5.0",
          "state": {
            "_model_module": "@jupyter-widgets/controls",
            "_model_module_version": "1.5.0",
            "_model_name": "DescriptionStyleModel",
            "_view_count": null,
            "_view_module": "@jupyter-widgets/base",
            "_view_module_version": "1.2.0",
            "_view_name": "StyleView",
            "description_width": ""
          }
        }
      }
    }
  },
  "cells": [
    {
      "cell_type": "markdown",
      "metadata": {
        "id": "view-in-github",
        "colab_type": "text"
      },
      "source": [
        "<a href=\"https://colab.research.google.com/github/madaime2/Novel_Pollen_Phylogenetic_Placement/blob/main/Training_H-CNN.ipynb\" target=\"_parent\"><img src=\"https://colab.research.google.com/assets/colab-badge.svg\" alt=\"Open In Colab\"/></a>"
      ]
    },
    {
      "cell_type": "code",
      "execution_count": null,
      "metadata": {
        "id": "ojcYnPIxBynh"
      },
      "outputs": [],
      "source": [
        "import torch \n",
        "import torch.nn as nn\n",
        "import torch.optim as optim\n",
        "from torch.optim import lr_scheduler\n",
        "import numpy as np\n",
        "import torchvision \n",
        "from torchvision import datasets, models, transforms\n",
        "import matplotlib.pyplot as plt\n",
        "import time\n",
        "import os\n",
        "import copy\n",
        "\n",
        "absolute_path = os.path.dirname(\"/content/drive/MyDrive/Podocarpus_Final/Podocarpus_Project/\")"
      ]
    },
    {
      "cell_type": "markdown",
      "metadata": {
        "id": "E4efYjmQBzQL"
      },
      "source": [
        "# Train Holistic CNN (H-CNN) - Trained on maximum intensity projection (MIP) images"
      ]
    },
    {
      "cell_type": "markdown",
      "metadata": {
        "id": "X8QzQ2--BwHf"
      },
      "source": []
    },
    {
      "cell_type": "code",
      "execution_count": null,
      "metadata": {
        "id": "yrNyGiS3Bui0"
      },
      "outputs": [],
      "source": [
        "# BEGIN HERE (NAIVE CLASSIFIER)\n",
        "\n",
        "mean = np.array([0.5, 0.5, 0.5])\n",
        "std = np.array([0.25, 0.25, 0.25])\n",
        " \n",
        "torch.manual_seed(3)\n",
        "data_transforms = {\n",
        "    'train': transforms.Compose([\n",
        "       # transforms.RandomResizedCrop(224),\n",
        "         torchvision.transforms.Resize((224,224)),\n",
        " \n",
        "        torchvision.transforms.RandomHorizontalFlip(p=0.5),\n",
        "        torchvision.transforms.RandomVerticalFlip(p=0.5),\n",
        "        torchvision.transforms.RandomRotation((-90,90)),\n",
        "        transforms.ToTensor(),\n",
        "        transforms.Normalize(mean, std)\n",
        "    ]),\n",
        "    'val': transforms.Compose([\n",
        "       # transforms.Resize(256),\n",
        "       torchvision.transforms.Resize((224,224)),\n",
        "       # transforms.CenterCrop(224),\n",
        "        transforms.ToTensor(),\n",
        "        transforms.Normalize(mean, std)\n",
        "    ]),\n",
        "}\n",
        "\n",
        "data_dir = absolute_path + \"/Podocarpus_Images_Split04/\"\n",
        "\n",
        "image_datasets = {x: datasets.ImageFolder(os.path.join(data_dir, x),\n",
        "                                          data_transforms[x])\n",
        "                  for x in ['train', 'val']}\n",
        "dataloaders = {x: torch.utils.data.DataLoader(image_datasets[x], batch_size=10,\n",
        "                                             shuffle=True, num_workers=0)\n",
        "              for x in ['train', 'val']}\n",
        "dataset_sizes = {x: len(image_datasets[x]) for x in ['train', 'val']}\n",
        "class_names = image_datasets['train'].classes"
      ]
    },
    {
      "cell_type": "code",
      "execution_count": null,
      "metadata": {
        "colab": {
          "base_uri": "https://localhost:8080/",
          "height": 186
        },
        "id": "KES6BqRMKwmT",
        "outputId": "4f215108-1382-4256-d8ef-6a570bebf84e"
      },
      "outputs": [
        {
          "output_type": "stream",
          "name": "stdout",
          "text": [
            "['acutifolius', 'archboldii', 'brasiliensis', 'brassii', 'coriaceus', 'drouynianus', 'elatus', 'elongatus', 'glaucus', 'gnidiodes', 'lambertii', 'lawrencei', 'lucienii', 'macrophyllus', 'matudae', 'milanjianus', 'neriifolius', 'nivalis', 'novaecaledoniae', 'nubigenus', 'oleifolius', 'parlatorei', 'pilgeri', 'polystachyus', 'salignus', 'sellowii', 'spinulosus', 'sylvestris', 'totara', 'urbanii']\n"
          ]
        },
        {
          "output_type": "display_data",
          "data": {
            "text/plain": [
              "<Figure size 432x288 with 1 Axes>"
            ],
            "image/png": "[encoded data removed]"
          },
          "metadata": {
            "needs_background": "light"
          }
        }
      ],
      "source": [
        "# Visualize Data to check if read correctly \n",
        "\n",
        "def imshow(inp, title):\n",
        "    \"\"\"Imshow for Tensor.\"\"\"\n",
        "    inp = inp.numpy().transpose((1, 2, 0))\n",
        "    inp = std * inp + mean\n",
        "    inp = np.clip(inp, 0, 1)\n",
        "    plt.imshow(inp) \n",
        "    plt.title(title)\n",
        "    plt.show()\n",
        "\n",
        "device = torch.device(\"cuda:0\" if torch.cuda.is_available() else \"cpu\")\n",
        "print(class_names)\n",
        "\n",
        "# Get a batch of training data\n",
        "inputs, classes = next(iter(dataloaders['train'])) \n",
        "\n",
        "# Make a grid from batch\n",
        "out = torchvision.utils.make_grid(inputs)\n",
        "\n",
        "imshow(out, title=\"Batch\")"
      ]
    },
    {
      "cell_type": "code",
      "execution_count": null,
      "metadata": {
        "colab": {
          "base_uri": "https://localhost:8080/",
          "height": 158,
          "referenced_widgets": [
            "83322e740e9540f9801983f14c95d2c6",
            "b59e731089ca48a29380bf0e6861cda2",
            "b893a7c313374592a7edfdf0fda97b9b",
            "0b465f70d9f24bbcb377c8438277b41f",
            "713c7e8d4a3440f38ac5b1d3010fc822",
            "a85c512113d44a1da844a9eb2ca02344",
            "8462353bd5814b0e8a61a21513dcc60a",
            "897a9d357a9f4583b62eddffe87d9e29",
            "54d2deea4c6a4255bfb4b58470183af7",
            "8e924522f8414e59ad82b5592e1f0e14",
            "d18fb486ab664aa6ba83c6f188379463"
          ]
        },
        "id": "MQOZZdosLYbP",
        "outputId": "f3d01705-9d04-4b9b-8b7d-ad0a3daf9416"
      },
      "outputs": [
        {
          "output_type": "stream",
          "name": "stderr",
          "text": [
            "/usr/local/lib/python3.7/dist-packages/torchvision/models/_utils.py:209: UserWarning: The parameter 'pretrained' is deprecated since 0.13 and will be removed in 0.15, please use 'weights' instead.\n",
            "  f\"The parameter '{pretrained_param}' is deprecated since 0.13 and will be removed in 0.15, \"\n",
            "/usr/local/lib/python3.7/dist-packages/torchvision/models/_utils.py:223: UserWarning: Arguments other than a weight enum or `None` for 'weights' are deprecated since 0.13 and will be removed in 0.15. The current behavior is equivalent to passing `weights=ResNeXt101_32X8D_Weights.IMAGENET1K_V1`. You can also use `weights=ResNeXt101_32X8D_Weights.DEFAULT` to get the most up-to-date weights.\n",
            "  warnings.warn(msg)\n",
            "Downloading: \"https://download.pytorch.org/models/resnext101_32x8d-8ba56ff5.pth\" to /root/.cache/torch/hub/checkpoints/resnext101_32x8d-8ba56ff5.pth\n"
          ]
        },
        {
          "output_type": "display_data",
          "data": {
            "text/plain": [
              "  0%|          | 0.00/340M [00:00<?, ?B/s]"
            ],
            "application/vnd.jupyter.widget-view+json": {
              "version_major": 2,
              "version_minor": 0,
              "model_id": "83322e740e9540f9801983f14c95d2c6"
            }
          },
          "metadata": {}
        }
      ],
      "source": [
        "# Load ResNeXt-101 network - The network is pretrained on the imagenet-1K dataset\n",
        "\n",
        "def train_model(model, criterion, optimizer, scheduler, num_epochs=15):\n",
        "    since = time.time()\n",
        "    best_model_wts = copy.deepcopy(model.state_dict())\n",
        "    best_acc = 0.0\n",
        " \n",
        "    for epoch in range(num_epochs):\n",
        "        print('Epoch {}/{}'.format(epoch, num_epochs - 1))\n",
        "        print('-' * 10)\n",
        " \n",
        "        # Each epoch has a training and validation phase\n",
        "        for phase in ['train', 'val']:\n",
        "            if phase == 'train':\n",
        "                model.train()  # Set model to training mode\n",
        "            else:\n",
        "                model.eval()   # Set model to evaluate mode\n",
        " \n",
        "            running_loss = 0.0\n",
        "            running_corrects = 0\n",
        " \n",
        "            # Iterate over data.\n",
        "            IterationCount = 0\n",
        "            for inputs, labels in dataloaders[phase]:\n",
        "                inputs = inputs.to(device)\n",
        "                labels = labels.to(device)\n",
        " \n",
        "                # forward\n",
        "                # track history if only in train\n",
        "                with torch.set_grad_enabled(phase == 'train'):\n",
        "                    outputs = model(inputs)\n",
        "                    _, preds = torch.max(outputs, 1)\n",
        "                    loss = criterion(outputs, labels)\n",
        " \n",
        "                    # backward + optimize only if in training phase\n",
        "                    if phase == 'train':\n",
        "                        optimizer.zero_grad()\n",
        "                        loss.backward()\n",
        "                        optimizer.step()\n",
        " \n",
        "                # statistics\n",
        "                running_loss += loss.item() * inputs.size(0)\n",
        "                running_corrects += torch.sum(preds == labels.data)\n",
        " \n",
        "            if phase == 'train':\n",
        "                scheduler.step()\n",
        " \n",
        "            epoch_loss = running_loss / dataset_sizes[phase]\n",
        "            epoch_acc = running_corrects.double() / dataset_sizes[phase]\n",
        " \n",
        "            print('{} Loss: {:.4f} Acc: {:.4f}'.format(\n",
        "                phase, epoch_loss, epoch_acc))\n",
        " \n",
        "            # deep copy the model\n",
        " \n",
        "            if phase == 'val' and epoch_acc > best_acc:\n",
        "                best_acc = epoch_acc\n",
        "                best_model_wts = copy.deepcopy(model.state_dict())\n",
        " \n",
        "        print()\n",
        " \n",
        "    time_elapsed = time.time() - since\n",
        "    print('Training complete in {:.0f}m {:.0f}s'.format(\n",
        "        time_elapsed // 60, time_elapsed % 60))\n",
        "    print('Best val Acc: {:4f}'.format(best_acc))\n",
        " \n",
        "    # load best model weights\n",
        "    model.load_state_dict(best_model_wts)\n",
        "    return model\n",
        "        \n",
        "model =  models.resnext101_32x8d(pretrained=True)\n",
        "num_ftrs = model.fc.in_features\n",
        "model.fc = nn.Linear(num_ftrs, 30)\n",
        "model.to(device);"
      ]
    },
    {
      "cell_type": "code",
      "execution_count": null,
      "metadata": {
        "colab": {
          "base_uri": "https://localhost:8080/"
        },
        "id": "aaDKbKD2LYd4",
        "outputId": "904a351a-292f-4753-d078-64c751ef7f2f"
      },
      "outputs": [
        {
          "output_type": "stream",
          "name": "stdout",
          "text": [
            "Epoch 0/14\n",
            "----------\n",
            "train Loss: 3.4508 Acc: 0.0526\n",
            "val Loss: 3.2363 Acc: 0.1000\n",
            "\n",
            "Epoch 1/14\n",
            "----------\n",
            "train Loss: 3.0119 Acc: 0.1675\n",
            "val Loss: 2.8667 Acc: 0.2700\n",
            "\n",
            "Epoch 2/14\n",
            "----------\n",
            "train Loss: 2.5455 Acc: 0.4833\n",
            "val Loss: 2.5910 Acc: 0.3500\n",
            "\n",
            "Epoch 3/14\n",
            "----------\n",
            "train Loss: 2.2752 Acc: 0.5407\n",
            "val Loss: 2.3098 Acc: 0.4000\n",
            "\n",
            "Epoch 4/14\n",
            "----------\n",
            "train Loss: 1.9591 Acc: 0.6651\n",
            "val Loss: 2.1945 Acc: 0.4700\n",
            "\n",
            "Epoch 5/14\n",
            "----------\n",
            "train Loss: 1.8691 Acc: 0.6938\n",
            "val Loss: 2.0862 Acc: 0.4500\n",
            "\n",
            "Epoch 6/14\n",
            "----------\n",
            "train Loss: 1.6837 Acc: 0.7751\n",
            "val Loss: 2.0428 Acc: 0.4600\n",
            "\n",
            "Epoch 7/14\n",
            "----------\n",
            "train Loss: 1.6263 Acc: 0.7799\n",
            "val Loss: 1.9795 Acc: 0.5200\n",
            "\n",
            "Epoch 8/14\n",
            "----------\n",
            "train Loss: 1.6038 Acc: 0.7512\n",
            "val Loss: 1.9580 Acc: 0.5100\n",
            "\n",
            "Epoch 9/14\n",
            "----------\n",
            "train Loss: 1.5821 Acc: 0.7895\n",
            "val Loss: 1.9453 Acc: 0.5000\n",
            "\n",
            "Epoch 10/14\n",
            "----------\n",
            "train Loss: 1.5404 Acc: 0.7943\n",
            "val Loss: 1.9194 Acc: 0.5000\n",
            "\n",
            "Epoch 11/14\n",
            "----------\n",
            "train Loss: 1.5128 Acc: 0.7847\n",
            "val Loss: 1.8937 Acc: 0.5000\n",
            "\n",
            "Epoch 12/14\n",
            "----------\n",
            "train Loss: 1.5334 Acc: 0.7799\n",
            "val Loss: 1.9141 Acc: 0.5100\n",
            "\n",
            "Epoch 13/14\n",
            "----------\n",
            "train Loss: 1.5137 Acc: 0.7895\n",
            "val Loss: 1.8968 Acc: 0.5200\n",
            "\n",
            "Epoch 14/14\n",
            "----------\n",
            "train Loss: 1.4958 Acc: 0.7847\n",
            "val Loss: 1.8976 Acc: 0.5000\n",
            "\n",
            "Training complete in 53m 37s\n",
            "Best val Acc: 0.520000\n"
          ]
        }
      ],
      "source": [
        "criterion = nn.CrossEntropyLoss()\n",
        "optimizer = optim.SGD(model.parameters(), lr= 0.0009, momentum=0.9)\n",
        "step_lr_scheduler = lr_scheduler.StepLR(optimizer, step_size = 2, gamma = 0.5)\n",
        "#torch.manual_seed(0)\n",
        "import random\n",
        "manualSeed = 3\n",
        "np.random.seed(manualSeed)\n",
        "random.seed(manualSeed)\n",
        "torch.manual_seed(manualSeed)\n",
        "# for GPU \n",
        "torch.cuda.manual_seed(manualSeed)\n",
        "torch.cuda.manual_seed_all(manualSeed)\n",
        "torch.backends.cudnn.enabled = False \n",
        "torch.backends.cudnn.benchmark = False\n",
        "torch.backends.cudnn.deterministic = True\n",
        "\n",
        "# Train and get best model\n",
        "model = train_model(model, criterion, optimizer, step_lr_scheduler, num_epochs=15)"
      ]
    },
    {
      "cell_type": "markdown",
      "metadata": {
        "id": "Q0YZT-1qM3DS"
      },
      "source": [
        "Save Trained Network H-CNN"
      ]
    },
    {
      "cell_type": "code",
      "source": [
        "# Save trained model under \"models\" folder\n",
        "torch.save(model.state_dict(), absolute_path + \"/models/Podocarpus_H-CNN_Split04.pt\")"
      ],
      "metadata": {
        "id": "uM9BVUNEhOAw"
      },
      "execution_count": null,
      "outputs": []
    }
  ]
}
