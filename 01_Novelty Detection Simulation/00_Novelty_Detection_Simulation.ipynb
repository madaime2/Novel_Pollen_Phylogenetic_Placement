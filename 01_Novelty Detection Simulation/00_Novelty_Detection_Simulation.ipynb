{
  "cells": [
    {
      "cell_type": "markdown",
      "metadata": {
        "id": "view-in-github",
        "colab_type": "text"
      },
      "source": [
        "<a href=\"https://colab.research.google.com/github/madaime2/Novel_Pollen_Phylogenetic_Placement/blob/main/01_Novelty%20Detection%20Simulation/00_Novelty_Detection_Simulation.ipynb\" target=\"_parent\"><img src=\"https://colab.research.google.com/assets/colab-badge.svg\" alt=\"Open In Colab\"/></a>"
      ]
    },
    {
      "cell_type": "code",
      "execution_count": null,
      "metadata": {
        "id": "ROnXVmiWPGai"
      },
      "outputs": [],
      "source": [
        "import torch \n",
        "import torch.nn as nn\n",
        "import torch.optim as optim\n",
        "from torch.optim import lr_scheduler\n",
        "import numpy as np\n",
        "import torchvision \n",
        "from torchvision import datasets, models, transforms\n",
        "import matplotlib.pyplot as plt\n",
        "import time\n",
        "import os\n",
        "import copy\n",
        "\n",
        "absolute_path = os.path.dirname(\"/content/drive/MyDrive/Podocarpus_Final/Podocarpus_Project/\")\n",
        "\n",
        "device = torch.device(\"cuda:0\" if torch.cuda.is_available() else \"cpu\")"
      ]
    },
    {
      "cell_type": "code",
      "execution_count": null,
      "metadata": {
        "id": "2I5dsuz0YyD1"
      },
      "outputs": [],
      "source": [
        "# BEGIN HERE (NAIVE CLASSIFIER)\n",
        "\n",
        "mean = np.array([0.5, 0.5, 0.5])\n",
        "std = np.array([0.25, 0.25, 0.25])\n",
        " \n",
        "torch.manual_seed(3)\n",
        "data_transforms = {\n",
        "    'train': transforms.Compose([\n",
        "       # transforms.RandomResizedCrop(224),\n",
        "         torchvision.transforms.Resize((224,224)),\n",
        " \n",
        "        torchvision.transforms.RandomHorizontalFlip(p=0.5),\n",
        "        torchvision.transforms.RandomVerticalFlip(p=0.5),\n",
        "        torchvision.transforms.RandomRotation((-90,90)),\n",
        "        transforms.ToTensor(),\n",
        "        transforms.Normalize(mean, std)\n",
        "    ]),\n",
        "    'val': transforms.Compose([\n",
        "       # transforms.Resize(256),\n",
        "       torchvision.transforms.Resize((224,224)),\n",
        "       # transforms.CenterCrop(224),\n",
        "        transforms.ToTensor(),\n",
        "        transforms.Normalize(mean, std)\n",
        "    ]),\n",
        "}\n",
        "\n",
        "data_dir = absolute_path + \"/Stacks_Podocarpus_WO_Oleifolius_Train_Val/\"\n",
        "\n",
        "image_datasets = {x: datasets.ImageFolder(os.path.join(data_dir, x),\n",
        "                                          data_transforms[x])\n",
        "                  for x in ['train', 'val']}\n",
        "dataloaders = {x: torch.utils.data.DataLoader(image_datasets[x], batch_size=10,\n",
        "                                             shuffle=True, num_workers=0)\n",
        "              for x in ['train', 'val']}\n",
        "dataset_sizes = {x: len(image_datasets[x]) for x in ['train', 'val']}\n",
        "class_names = image_datasets['train'].classes"
      ]
    },
    {
      "cell_type": "markdown",
      "metadata": {
        "id": "W8DSHTQ5ZkD5"
      },
      "source": [
        "# Load C-CNN (trained on entire dataset with the exception of the pseudo-novel taxon\n"
      ]
    },
    {
      "cell_type": "code",
      "execution_count": null,
      "metadata": {
        "id": "zPMt6M05Zrkw"
      },
      "outputs": [],
      "source": [
        "PATH = absolute_path + \"/models/C-CNN_Podocarpus_Split_04_WO_Oleifolius.pt\"\n",
        "model =  models.resnext101_32x8d(pretrained=True)\n",
        "num_ftrs = model.fc.in_features\n",
        "model.fc = nn.Linear(num_ftrs, len(class_names)); \n",
        "model.load_state_dict(torch.load(PATH));\n",
        "#model.load_state_dict(torch.load(PATH, map_location=\"cpu\"))\n",
        "model.to(device);"
      ]
    },
    {
      "cell_type": "markdown",
      "metadata": {
        "id": "ypbdNx12cxd5"
      },
      "source": [
        "## Forward-pass known cross-sectional images to extract their classification scores"
      ]
    },
    {
      "cell_type": "code",
      "execution_count": null,
      "metadata": {
        "colab": {
          "base_uri": "https://localhost:8080/"
        },
        "id": "TM0TorW8ZrqH",
        "outputId": "d9d48d95-979e-42bc-b9d0-ae21d3a71fa0"
      },
      "outputs": [
        {
          "output_type": "stream",
          "name": "stdout",
          "text": [
            "(96, 29) float32 (96,) int64\n",
            "Accuracy: 0.90625\n"
          ]
        }
      ],
      "source": [
        "# Forward-Pass Images to the network to get (1) Softmax probabilities and (2) best classification prediction\n",
        "\n",
        "# Average Logits first, then pass the new logit (average) to the softmax function\n",
        "\n",
        "# Each instance is a subfolder containing multiple (N) cross-sectional images (slices belonging to the original image stack)\n",
        "\n",
        "\n",
        "mean = np.array([0.5, 0.5, 0.5])\n",
        "std = np.array([0.25, 0.25, 0.25])\n",
        "\n",
        "\n",
        "import glob\n",
        "from PIL import Image\n",
        "\n",
        "transform = transforms.Compose([\n",
        "    torchvision.transforms.Resize((224,224)),\n",
        "        transforms.ToTensor(),\n",
        "        transforms.Normalize(mean, std)\n",
        "])\n",
        "\n",
        "def predict(model, image_dir):\n",
        "    \"\"\"\n",
        "    \"\"\"\n",
        "    patch_paths = glob.glob(os.path.join(image_dir, '*'))\n",
        "    images = []\n",
        "    for path in patch_paths:\n",
        "        image = Image.open(path).convert('RGB')\n",
        "        image = transform(image)\n",
        "        images.append(image)\n",
        "\n",
        "    images = torch.stack(images, 0).to(device)\n",
        "    logits = model(images)\n",
        "    logits = logits.detach().cpu().numpy()\n",
        "    logits = torch.tensor(logits)\n",
        "    logits_mean = logits.mean(0)\n",
        "    probs = torch.softmax(logits_mean, 0).detach().cpu().numpy()\n",
        "    # Compute average and get final prediction\n",
        "    # avg_probs = probs.mean(0)\n",
        "    avg_probs = probs\n",
        "    final_pred = avg_probs.argmax()\n",
        "    return final_pred, avg_probs\n",
        "\n",
        "val_dir = absolute_path + \"/Stacks_Podocarpus_WO_Oleifolius_Train_Val/val\"\n",
        "\n",
        "val_class_dirs = glob.glob(os.path.join(val_dir, '*'))\n",
        "model.eval()\n",
        "class_map = {name: idx for idx, name in enumerate(class_names)}\n",
        "results = []\n",
        "all_preds = []\n",
        "labels = []\n",
        "all_image_dirs = []\n",
        "\n",
        "for d in val_class_dirs:\n",
        "    image_dirs = glob.glob(os.path.join(d, '*'))\n",
        "    for image_dir in image_dirs:\n",
        "        class_name = os.path.basename(image_dir).split('.')[0]\n",
        "        label = class_map[class_name]\n",
        "        labels.append(label)\n",
        "        all_image_dirs.append(image_dir)  \n",
        "        class_id, probs = predict(model, image_dir)\n",
        "        all_preds.append(probs)\n",
        "        results.append((image_dir, class_id))\n",
        "        #print(f'Predict {image_dir} as class {class_id}')\n",
        "\n",
        "all_preds = np.stack(all_preds, 0)\n",
        "labels = np.array(labels)\n",
        "print(all_preds.shape, all_preds.dtype, labels.shape, labels.dtype)\n",
        "print('Accuracy: {}'.format((all_preds.argmax(1) == labels).mean()))"
      ]
    },
    {
      "cell_type": "code",
      "execution_count": null,
      "metadata": {
        "id": "VW_Lusddc-Wt"
      },
      "outputs": [],
      "source": [
        "# Concatenate Cross-Sectional Image Directories and Softmax Probabilities, and Get SORTED Probability vectors\n",
        "import numpy as np \n",
        "Dirs_and_Scores = {}\n",
        "for i in range (len(all_image_dirs)):\n",
        "  array_dir = all_image_dirs[i]\n",
        "  array_pred = all_preds[i]\n",
        "  Dirs_and_Scores[array_dir] = array_pred\n",
        "  #Dirs_and_Scores.append(Dir_and_Score)\n",
        "  \n",
        "Stack_Probs_Sorted = []\n",
        "for key in sorted(Dirs_and_Scores.keys()) :\n",
        "   #print(key , \" :: \" , Dirs_and_Scores[key])\n",
        "   #Dirs_and_Scores[key]\n",
        "   Stack_Probs_Sorted.append(Dirs_and_Scores[key])\n",
        "\n",
        "#Sort Cross-Sectional Image Labels \n",
        "labels.sort()\n",
        "StackLabels = labels"
      ]
    },
    {
      "cell_type": "code",
      "execution_count": null,
      "metadata": {
        "id": "nJr81VKS7GfE",
        "colab": {
          "base_uri": "https://localhost:8080/"
        },
        "outputId": "8909e14a-0b50-4772-b8bf-c800921a9918"
      },
      "outputs": [
        {
          "output_type": "stream",
          "name": "stderr",
          "text": [
            "/usr/local/lib/python3.7/dist-packages/ipykernel_launcher.py:2: UserWarning: Creating a tensor from a list of numpy.ndarrays is extremely slow. Please consider converting the list to a single numpy.ndarray with numpy.array() before converting to a tensor. (Triggered internally at  ../torch/csrc/utils/tensor_new.cpp:201.)\n",
            "  \n"
          ]
        }
      ],
      "source": [
        "# Save scores of known cross-sectional images\n",
        "C_CNN_Scores_Known = torch.tensor(Stack_Probs_Sorted)"
      ]
    },
    {
      "cell_type": "markdown",
      "metadata": {
        "id": "uCekWotOdCYH"
      },
      "source": [
        "## Forward-pass unknown (pseudo-novel) cross-sectional images to extract their classification scores"
      ]
    },
    {
      "cell_type": "code",
      "execution_count": null,
      "metadata": {
        "id": "tH0rArgfc-Y8"
      },
      "outputs": [],
      "source": [
        "# Forward-Pass Images to the network to get (1) Softmax probabilities and (2) best classification prediction\n",
        "\n",
        "# Average Logits first, then pass the new logit (average) to the softmax function\n",
        "\n",
        "# Each instance is a subfolder containing multiple (N) cross-sectional images (slices belonging to the original image stack)\n",
        "\n",
        "mean = np.array([0.5, 0.5, 0.5])\n",
        "std = np.array([0.25, 0.25, 0.25])\n",
        "\n",
        "import glob\n",
        "from PIL import Image\n",
        "\n",
        "transform = transforms.Compose([\n",
        "    torchvision.transforms.Resize((224,224)),\n",
        "        transforms.ToTensor(),\n",
        "        transforms.Normalize(mean, std)\n",
        "])\n",
        "\n",
        "def predict(model, image_dir):\n",
        "    \"\"\"\n",
        "    \"\"\"\n",
        "    patch_paths = glob.glob(os.path.join(image_dir, '*'))\n",
        "    images = []\n",
        "    for path in patch_paths:\n",
        "        image = Image.open(path).convert('RGB')\n",
        "        image = transform(image)\n",
        "        images.append(image)\n",
        "\n",
        "    images = torch.stack(images, 0).to(device)\n",
        "    logits = model(images)\n",
        "    logits = logits.detach().cpu().numpy()\n",
        "    logits = torch.tensor(logits)\n",
        "    logits_mean = logits.mean(0)\n",
        "    probs = torch.softmax(logits_mean, 0).detach().cpu().numpy()\n",
        "    # Compute average and get final prediction\n",
        "    # avg_probs = probs.mean(0)\n",
        "    avg_probs = probs\n",
        "    final_pred = avg_probs.argmax()\n",
        "    return final_pred, avg_probs\n",
        "\n",
        "val_dir = absolute_path + \"/Pseudonovel_Oleifolius/Cross_Sections_Oleifolius/\"\n",
        "\n",
        "val_class_dirs = glob.glob(os.path.join(val_dir, '*'))\n",
        "model.eval()\n",
        "#class_map = {name: idx for idx, name in enumerate(class_names)}\n",
        "results = []\n",
        "all_preds = []\n",
        "labels = []\n",
        "all_image_dirs = []\n",
        "\n",
        "for d in val_class_dirs:\n",
        "    image_dirs = glob.glob(os.path.join(d, '*'))\n",
        "    for image_dir in image_dirs:\n",
        "        class_name = os.path.basename(image_dir).split('.')[0]\n",
        "        #label = class_map[class_name]\n",
        "        labels.append(label)\n",
        "        all_image_dirs.append(image_dir)  \n",
        "        class_id, probs = predict(model, image_dir)\n",
        "        all_preds.append(probs)\n",
        "        results.append((image_dir, class_id))\n",
        "\n",
        "all_preds = np.stack(all_preds, 0)\n",
        "labels = np.array(labels)"
      ]
    },
    {
      "cell_type": "code",
      "execution_count": null,
      "metadata": {
        "id": "eekNsp9Dc-iV"
      },
      "outputs": [],
      "source": [
        "# Concatenate Cross-Sectional Image Directories and Softmax Probabilities, and Get SORTED Probability vectors\n",
        "import numpy as np \n",
        "Dirs_and_Scores = {}\n",
        "for i in range (len(all_image_dirs)):\n",
        "  array_dir = all_image_dirs[i]\n",
        "  array_pred = all_preds[i]\n",
        "  Dirs_and_Scores[array_dir] = array_pred\n",
        "  #Dirs_and_Scores.append(Dir_and_Score)\n",
        "  \n",
        "Stack_Probs_Sorted = []\n",
        "for key in sorted(Dirs_and_Scores.keys()) :\n",
        "   #print(key , \" :: \" , Dirs_and_Scores[key])\n",
        "   #Dirs_and_Scores[key]\n",
        "   Stack_Probs_Sorted.append(Dirs_and_Scores[key])\n",
        "\n",
        "#Sort Cross-Sectional Image Labels \n",
        "labels.sort()\n",
        "StackLabels = labels"
      ]
    },
    {
      "cell_type": "code",
      "execution_count": null,
      "metadata": {
        "id": "BxlnFnG5c-kv"
      },
      "outputs": [],
      "source": [
        "# Save scores of unknown (pseudo-novel) cross-sectional images\n",
        "C_CNN_Scores_Unknown = torch.tensor(Stack_Probs_Sorted)"
      ]
    },
    {
      "cell_type": "markdown",
      "metadata": {
        "id": "ubwHJP51YzlV"
      },
      "source": [
        "# Load H-CNN (trained on entire dataset with the exception of the pseudo-novel taxon)\n"
      ]
    },
    {
      "cell_type": "code",
      "execution_count": null,
      "metadata": {
        "id": "WlZhoyGUYzlc"
      },
      "outputs": [],
      "source": [
        "PATH = absolute_path + \"/models/H-CNN_Podocarpus_Split_04_WO_Oleifolius.pt\"\n",
        "model =  models.resnext101_32x8d(pretrained=True)\n",
        "num_ftrs = model.fc.in_features\n",
        "model.fc = nn.Linear(num_ftrs, len(class_names)); \n",
        "model.load_state_dict(torch.load(PATH));\n",
        "#model.load_state_dict(torch.load(PATH, map_location=\"cpu\"))\n",
        "model.to(device);"
      ]
    },
    {
      "cell_type": "markdown",
      "metadata": {
        "id": "14uhspqiYzld"
      },
      "source": [
        "## Forward-pass known MIP images to extract their classification scores"
      ]
    },
    {
      "cell_type": "code",
      "execution_count": null,
      "metadata": {
        "colab": {
          "base_uri": "https://localhost:8080/"
        },
        "id": "C0njnlr6Yzld",
        "outputId": "b6a7b662-f8fe-48b0-f396-08808a90e144"
      },
      "outputs": [
        {
          "output_type": "stream",
          "name": "stdout",
          "text": [
            "(96, 29) float32 (96,) int64\n",
            "Accuracy: 0.5416666666666666\n"
          ]
        }
      ],
      "source": [
        "# Forward-Pass Images to the network to get (1) Softmax probabilities and (2) best classification prediction\n",
        "\n",
        "# Average Logits first, then pass the new logit (average) to the softmax function\n",
        "\n",
        "# Each instance is a subfolder containing a maximum intensity projection (MIP) image\n",
        "\n",
        "\n",
        "mean = np.array([0.5, 0.5, 0.5])\n",
        "std = np.array([0.25, 0.25, 0.25])\n",
        "\n",
        "\n",
        "import glob\n",
        "from PIL import Image\n",
        "\n",
        "transform = transforms.Compose([\n",
        "    torchvision.transforms.Resize((224,224)),\n",
        "        transforms.ToTensor(),\n",
        "        transforms.Normalize(mean, std)\n",
        "])\n",
        "\n",
        "def predict(model, image_dir):\n",
        "    \"\"\"\n",
        "    \"\"\"\n",
        "    patch_paths = glob.glob(os.path.join(image_dir, '*'))\n",
        "    images = []\n",
        "    for path in patch_paths:\n",
        "        image = Image.open(path).convert('RGB')\n",
        "        image = transform(image)\n",
        "        images.append(image)\n",
        "\n",
        "    images = torch.stack(images, 0).to(device)\n",
        "    logits = model(images)\n",
        "    logits = logits.detach().cpu().numpy()\n",
        "    logits = torch.tensor(logits)\n",
        "    logits_mean = logits.mean(0)\n",
        "    probs = torch.softmax(logits_mean, 0).detach().cpu().numpy()\n",
        "    # Compute average and get final prediction\n",
        "    # avg_probs = probs.mean(0)\n",
        "    avg_probs = probs\n",
        "    final_pred = avg_probs.argmax()\n",
        "    return final_pred, avg_probs\n",
        "\n",
        "val_dir = absolute_path + \"/Images_Podocarpus_WO_Oleifolius_Train_Val/val\"\n",
        "\n",
        "val_class_dirs = glob.glob(os.path.join(val_dir, '*'))\n",
        "model.eval()\n",
        "class_map = {name: idx for idx, name in enumerate(class_names)}\n",
        "results = []\n",
        "all_preds = []\n",
        "labels = []\n",
        "all_image_dirs = []\n",
        "\n",
        "for d in val_class_dirs:\n",
        "    image_dirs = glob.glob(os.path.join(d, '*'))\n",
        "    for image_dir in image_dirs:\n",
        "        class_name = os.path.basename(image_dir).split('.')[0]\n",
        "        label = class_map[class_name]\n",
        "        labels.append(label)\n",
        "        all_image_dirs.append(image_dir)  \n",
        "        class_id, probs = predict(model, image_dir)\n",
        "        all_preds.append(probs)\n",
        "        results.append((image_dir, class_id))\n",
        "        #print(f'Predict {image_dir} as class {class_id}')\n",
        "\n",
        "all_preds = np.stack(all_preds, 0)\n",
        "labels = np.array(labels)\n",
        "print(all_preds.shape, all_preds.dtype, labels.shape, labels.dtype)\n",
        "print('Accuracy: {}'.format((all_preds.argmax(1) == labels).mean()))"
      ]
    },
    {
      "cell_type": "code",
      "execution_count": null,
      "metadata": {
        "id": "mReKeUEmYzld"
      },
      "outputs": [],
      "source": [
        "# Concatenate Cross-Sectional Image Directories and Softmax Probabilities, and Get SORTED Probability vectors\n",
        "import numpy as np \n",
        "Dirs_and_Scores = {}\n",
        "for i in range (len(all_image_dirs)):\n",
        "  array_dir = all_image_dirs[i]\n",
        "  array_pred = all_preds[i]\n",
        "  Dirs_and_Scores[array_dir] = array_pred\n",
        "  #Dirs_and_Scores.append(Dir_and_Score)\n",
        "  \n",
        "Image_Probs_Sorted = []\n",
        "for key in sorted(Dirs_and_Scores.keys()) :\n",
        "   #print(key , \" :: \" , Dirs_and_Scores[key])\n",
        "   #Dirs_and_Scores[key]\n",
        "   Image_Probs_Sorted.append(Dirs_and_Scores[key])\n",
        "\n",
        "#Sort Cross-Sectional Image Labels \n",
        "labels.sort()\n",
        "ImageLabels = labels"
      ]
    },
    {
      "cell_type": "code",
      "execution_count": null,
      "metadata": {
        "id": "-uGtwTUAYzld"
      },
      "outputs": [],
      "source": [
        "# Save scores of known cross-sectional images\n",
        "H_CNN_Scores_Known = torch.tensor(Image_Probs_Sorted)"
      ]
    },
    {
      "cell_type": "markdown",
      "metadata": {
        "id": "el9ZBhR8Yzle"
      },
      "source": [
        "## Forward-pass unknown (pseudo-novel) MIP images to extract their classification scores"
      ]
    },
    {
      "cell_type": "code",
      "execution_count": null,
      "metadata": {
        "id": "c7STbpj5Yzle"
      },
      "outputs": [],
      "source": [
        "# Forward-Pass Images to the network to get (1) Softmax probabilities and (2) best classification prediction\n",
        "\n",
        "# Average Logits first, then pass the new logit (average) to the softmax function\n",
        "\n",
        "# Each instance is a subfolder containing a maximum intensity projection (MIP) image\n",
        "\n",
        "mean = np.array([0.5, 0.5, 0.5])\n",
        "std = np.array([0.25, 0.25, 0.25])\n",
        "\n",
        "import glob\n",
        "from PIL import Image\n",
        "\n",
        "transform = transforms.Compose([\n",
        "    torchvision.transforms.Resize((224,224)),\n",
        "        transforms.ToTensor(),\n",
        "        transforms.Normalize(mean, std)\n",
        "])\n",
        "\n",
        "def predict(model, image_dir):\n",
        "    \"\"\"\n",
        "    \"\"\"\n",
        "    patch_paths = glob.glob(os.path.join(image_dir, '*'))\n",
        "    images = []\n",
        "    for path in patch_paths:\n",
        "        image = Image.open(path).convert('RGB')\n",
        "        image = transform(image)\n",
        "        images.append(image)\n",
        "\n",
        "    images = torch.stack(images, 0).to(device)\n",
        "    logits = model(images)\n",
        "    logits = logits.detach().cpu().numpy()\n",
        "    logits = torch.tensor(logits)\n",
        "    logits_mean = logits.mean(0)\n",
        "    probs = torch.softmax(logits_mean, 0).detach().cpu().numpy()\n",
        "    # Compute average and get final prediction\n",
        "    # avg_probs = probs.mean(0)\n",
        "    avg_probs = probs\n",
        "    final_pred = avg_probs.argmax()\n",
        "    return final_pred, avg_probs\n",
        "\n",
        "val_dir = absolute_path + \"/Pseudonovel_Oleifolius/MIP_Oleifolius/\"\n",
        "\n",
        "val_class_dirs = glob.glob(os.path.join(val_dir, '*'))\n",
        "model.eval()\n",
        "#class_map = {name: idx for idx, name in enumerate(class_names)}\n",
        "results = []\n",
        "all_preds = []\n",
        "labels = []\n",
        "all_image_dirs = []\n",
        "\n",
        "for d in val_class_dirs:\n",
        "    image_dirs = glob.glob(os.path.join(d, '*'))\n",
        "    for image_dir in image_dirs:\n",
        "        class_name = os.path.basename(image_dir).split('.')[0]\n",
        "        #label = class_map[class_name]\n",
        "        labels.append(label)\n",
        "        all_image_dirs.append(image_dir)  \n",
        "        class_id, probs = predict(model, image_dir)\n",
        "        all_preds.append(probs)\n",
        "        results.append((image_dir, class_id))\n",
        "\n",
        "all_preds = np.stack(all_preds, 0)\n",
        "labels = np.array(labels)"
      ]
    },
    {
      "cell_type": "code",
      "execution_count": null,
      "metadata": {
        "id": "0JWwWZ_CYzle"
      },
      "outputs": [],
      "source": [
        "# Concatenate Cross-Sectional Image Directories and Softmax Probabilities, and Get SORTED Probability vectors\n",
        "import numpy as np \n",
        "Dirs_and_Scores = {}\n",
        "for i in range (len(all_image_dirs)):\n",
        "  array_dir = all_image_dirs[i]\n",
        "  array_pred = all_preds[i]\n",
        "  Dirs_and_Scores[array_dir] = array_pred\n",
        "  #Dirs_and_Scores.append(Dir_and_Score)\n",
        "  \n",
        "Image_Probs_Sorted = []\n",
        "for key in sorted(Dirs_and_Scores.keys()) :\n",
        "   #print(key , \" :: \" , Dirs_and_Scores[key])\n",
        "   #Dirs_and_Scores[key]\n",
        "   Image_Probs_Sorted.append(Dirs_and_Scores[key])\n",
        "\n",
        "#Sort Cross-Sectional Image Labels \n",
        "labels.sort()\n",
        "ImageLabels = labels"
      ]
    },
    {
      "cell_type": "code",
      "execution_count": null,
      "metadata": {
        "id": "kGf9jm_HYzle"
      },
      "outputs": [],
      "source": [
        "# Save scores of unknown (pseudo-novel) cross-sectional images\n",
        "H_CNN_Scores_Unknown = torch.tensor(Image_Probs_Sorted)"
      ]
    },
    {
      "cell_type": "markdown",
      "metadata": {
        "id": "rkoRAMAyZdip"
      },
      "source": [
        "# Load P-CNN (trained on entire dataset with the exception of the pseudo-novel taxon\n"
      ]
    },
    {
      "cell_type": "code",
      "execution_count": null,
      "metadata": {
        "id": "fXyvaf7vZdiq"
      },
      "outputs": [],
      "source": [
        "PATH = absolute_path + \"/models/P-CNN_Podocarpus_Split_04_WO_Oleifolius.pt\"\n",
        "model =  models.resnext101_32x8d(pretrained=True)\n",
        "num_ftrs = model.fc.in_features\n",
        "model.fc = nn.Linear(num_ftrs, len(class_names)); \n",
        "model.load_state_dict(torch.load(PATH));\n",
        "#model.load_state_dict(torch.load(PATH, map_location=\"cpu\"))\n",
        "model.to(device);"
      ]
    },
    {
      "cell_type": "markdown",
      "metadata": {
        "id": "-imk-ubDZdiq"
      },
      "source": [
        "## Forward-pass known patches to extract their classification scores"
      ]
    },
    {
      "cell_type": "code",
      "execution_count": null,
      "metadata": {
        "colab": {
          "base_uri": "https://localhost:8080/"
        },
        "id": "GBPjhZlYZdiq",
        "outputId": "f244901c-3c71-45d0-96e7-21aedfc50f2a"
      },
      "outputs": [
        {
          "output_type": "stream",
          "name": "stdout",
          "text": [
            "(96, 29) float32 (96,) int64\n",
            "Accuracy: 0.7708333333333334\n"
          ]
        }
      ],
      "source": [
        "# Forward Pass Images to the network to get (1) Softmax probabilities and (2) best classification prediction\n",
        "\n",
        "# Average Logits first, then pass the new logit (average) to the softmax function\n",
        "\n",
        "# Each instance is a subfolder containing multiple (N) patches (patches extracted from *one* image)\n",
        "\n",
        "\n",
        "mean = np.array([0.5, 0.5, 0.5])\n",
        "std = np.array([0.25, 0.25, 0.25])\n",
        "\n",
        "\n",
        "import glob\n",
        "from PIL import Image\n",
        "\n",
        "transform = transforms.Compose([\n",
        "    torchvision.transforms.Resize((224,224)),\n",
        "        transforms.ToTensor(),\n",
        "        transforms.Normalize(mean, std)\n",
        "])\n",
        "\n",
        "def predict(model, image_dir):\n",
        "    \"\"\"\n",
        "    \"\"\"\n",
        "    patch_paths = glob.glob(os.path.join(image_dir, '*'))\n",
        "    images = []\n",
        "    for path in patch_paths:\n",
        "        image = Image.open(path).convert('RGB')\n",
        "        image = transform(image)\n",
        "        images.append(image)\n",
        "\n",
        "    images = torch.stack(images, 0).to(device)\n",
        "    logits = model(images)\n",
        "    logits = logits.detach().cpu().numpy()\n",
        "    logits = torch.tensor(logits)\n",
        "    logits_mean = logits.mean(0)\n",
        "    probs = torch.softmax(logits_mean, 0).detach().cpu().numpy()\n",
        "    # Compute average and get final prediction\n",
        "    # avg_probs = probs.mean(0)\n",
        "    avg_probs = probs\n",
        "    final_pred = avg_probs.argmax()\n",
        "    return final_pred, avg_probs\n",
        "\n",
        "val_dir = absolute_path + \"/Patches_Podocarpus_WO_Oleifolius_Train_Val/val\"\n",
        "\n",
        "val_class_dirs = glob.glob(os.path.join(val_dir, '*'))\n",
        "model.eval()\n",
        "class_map = {name: idx for idx, name in enumerate(class_names)}\n",
        "results = []\n",
        "all_preds = []\n",
        "labels = []\n",
        "all_image_dirs = []\n",
        "\n",
        "for d in val_class_dirs:\n",
        "    image_dirs = glob.glob(os.path.join(d, '*'))\n",
        "    for image_dir in image_dirs:\n",
        "        class_name = os.path.basename(image_dir).split('.')[0]\n",
        "        label = class_map[class_name]\n",
        "        labels.append(label)\n",
        "        all_image_dirs.append(image_dir)  \n",
        "        class_id, probs = predict(model, image_dir)\n",
        "        all_preds.append(probs)\n",
        "        results.append((image_dir, class_id))\n",
        "        #print(f'Predict {image_dir} as class {class_id}')\n",
        "\n",
        "all_preds = np.stack(all_preds, 0)\n",
        "labels = np.array(labels)\n",
        "print(all_preds.shape, all_preds.dtype, labels.shape, labels.dtype)\n",
        "print('Accuracy: {}'.format((all_preds.argmax(1) == labels).mean()))"
      ]
    },
    {
      "cell_type": "code",
      "execution_count": null,
      "metadata": {
        "id": "d6KAfNvbZdiq"
      },
      "outputs": [],
      "source": [
        "# Concatenate Cross-Sectional Image Directories and Softmax Probabilities, and Get SORTED Probability vectors\n",
        "import numpy as np \n",
        "Dirs_and_Scores = {}\n",
        "for i in range (len(all_image_dirs)):\n",
        "  array_dir = all_image_dirs[i]\n",
        "  array_pred = all_preds[i]\n",
        "  Dirs_and_Scores[array_dir] = array_pred\n",
        "  #Dirs_and_Scores.append(Dir_and_Score)\n",
        "  \n",
        "Patch_Probs_Sorted = []\n",
        "for key in sorted(Dirs_and_Scores.keys()) :\n",
        "   #print(key , \" :: \" , Dirs_and_Scores[key])\n",
        "   #Dirs_and_Scores[key]\n",
        "   Patch_Probs_Sorted.append(Dirs_and_Scores[key])\n",
        "\n",
        "#Sort Cross-Sectional Image Labels \n",
        "labels.sort()\n",
        "PatchLabels = labels"
      ]
    },
    {
      "cell_type": "code",
      "execution_count": null,
      "metadata": {
        "id": "AlDhJaJCZdir"
      },
      "outputs": [],
      "source": [
        "# Save scores of known cross-sectional images\n",
        "P_CNN_Scores_Known = torch.tensor(Patch_Probs_Sorted)"
      ]
    },
    {
      "cell_type": "markdown",
      "metadata": {
        "id": "chiaCS9kZdir"
      },
      "source": [
        "## Forward-pass unknown patches to extract their classification scores"
      ]
    },
    {
      "cell_type": "code",
      "execution_count": null,
      "metadata": {
        "id": "AkLuRAMcZdir"
      },
      "outputs": [],
      "source": [
        "# Forward Pass Images to the network to get (1) Softmax probabilities and (2) best classification prediction\n",
        "\n",
        "# Average Logits first, then pass the new logit (average) to the softmax function\n",
        "\n",
        "# Each instance is a subfolder containing multiple (N) patches (patches extracted from *one* image)\n",
        "\n",
        "mean = np.array([0.5, 0.5, 0.5])\n",
        "std = np.array([0.25, 0.25, 0.25])\n",
        "\n",
        "import glob\n",
        "from PIL import Image\n",
        "\n",
        "transform = transforms.Compose([\n",
        "    torchvision.transforms.Resize((224,224)),\n",
        "        transforms.ToTensor(),\n",
        "        transforms.Normalize(mean, std)\n",
        "])\n",
        "\n",
        "def predict(model, image_dir):\n",
        "    \"\"\"\n",
        "    \"\"\"\n",
        "    patch_paths = glob.glob(os.path.join(image_dir, '*'))\n",
        "    images = []\n",
        "    for path in patch_paths:\n",
        "        image = Image.open(path).convert('RGB')\n",
        "        image = transform(image)\n",
        "        images.append(image)\n",
        "\n",
        "    images = torch.stack(images, 0).to(device)\n",
        "    logits = model(images)\n",
        "    logits = logits.detach().cpu().numpy()\n",
        "    logits = torch.tensor(logits)\n",
        "    logits_mean = logits.mean(0)\n",
        "    probs = torch.softmax(logits_mean, 0).detach().cpu().numpy()\n",
        "    # Compute average and get final prediction\n",
        "    # avg_probs = probs.mean(0)\n",
        "    avg_probs = probs\n",
        "    final_pred = avg_probs.argmax()\n",
        "    return final_pred, avg_probs\n",
        "\n",
        "val_dir = absolute_path + \"/Pseudonovel_Oleifolius/Cross_Sections_Oleifolius/\"\n",
        "\n",
        "val_class_dirs = glob.glob(os.path.join(val_dir, '*'))\n",
        "model.eval()\n",
        "#class_map = {name: idx for idx, name in enumerate(class_names)}\n",
        "results = []\n",
        "all_preds = []\n",
        "labels = []\n",
        "all_image_dirs = []\n",
        "\n",
        "for d in val_class_dirs:\n",
        "    image_dirs = glob.glob(os.path.join(d, '*'))\n",
        "    for image_dir in image_dirs:\n",
        "        class_name = os.path.basename(image_dir).split('.')[0]\n",
        "        #label = class_map[class_name]\n",
        "        labels.append(label)\n",
        "        all_image_dirs.append(image_dir)  \n",
        "        class_id, probs = predict(model, image_dir)\n",
        "        all_preds.append(probs)\n",
        "        results.append((image_dir, class_id))\n",
        "\n",
        "all_preds = np.stack(all_preds, 0)\n",
        "labels = np.array(labels)"
      ]
    },
    {
      "cell_type": "code",
      "execution_count": null,
      "metadata": {
        "id": "6T56IOphZdir"
      },
      "outputs": [],
      "source": [
        "# Concatenate Cross-Sectional Image Directories and Softmax Probabilities, and Get SORTED Probability vectors\n",
        "import numpy as np \n",
        "Dirs_and_Scores = {}\n",
        "for i in range (len(all_image_dirs)):\n",
        "  array_dir = all_image_dirs[i]\n",
        "  array_pred = all_preds[i]\n",
        "  Dirs_and_Scores[array_dir] = array_pred\n",
        "  #Dirs_and_Scores.append(Dir_and_Score)\n",
        "  \n",
        "Patch_Probs_Sorted = []\n",
        "for key in sorted(Dirs_and_Scores.keys()) :\n",
        "   #print(key , \" :: \" , Dirs_and_Scores[key])\n",
        "   #Dirs_and_Scores[key]\n",
        "   Patch_Probs_Sorted.append(Dirs_and_Scores[key])\n",
        "\n",
        "#Sort Cross-Sectional Image Labels \n",
        "labels.sort()\n",
        "PatchLabels = labels"
      ]
    },
    {
      "cell_type": "code",
      "execution_count": null,
      "metadata": {
        "id": "T4-nV2WaZdir"
      },
      "outputs": [],
      "source": [
        "# Save scores of unknown (pseudo-novel) cross-sectional images\n",
        "P_CNN_Scores_Unknown = torch.tensor(Patch_Probs_Sorted)"
      ]
    },
    {
      "cell_type": "markdown",
      "source": [
        "# Compute fused scores"
      ],
      "metadata": {
        "id": "6nRFcJgukQ0s"
      }
    },
    {
      "cell_type": "code",
      "source": [
        "# Compute Fused Classification_Scores (element-wise multiplication) - Known specimens \n",
        "Fused_Scores_Known = C_CNN_Scores_Known * H_CNN_Scores_Known * P_CNN_Scores_Known"
      ],
      "metadata": {
        "id": "_SK1WyFGZcur"
      },
      "execution_count": null,
      "outputs": []
    },
    {
      "cell_type": "code",
      "source": [
        "# Compute Fused Classification_Scores (element-wise multiplication) - unknwon (pseudo-novel) specimens \n",
        "Fused_Scores_Unknown = C_CNN_Scores_Unknown * H_CNN_Scores_Unknown * P_CNN_Scores_Unknown"
      ],
      "metadata": {
        "id": "Lp4aMF4dkaN4"
      },
      "execution_count": null,
      "outputs": []
    },
    {
      "cell_type": "code",
      "source": [
        "# Normalize (0-1) fused scores - Known specimens\n",
        "import torch\n",
        "import torch.nn.functional as f\n",
        "Normalized_Prob_Fused_Scores_Known = f.normalize(torch.tensor(Fused_Scores_Known), p=2, dim=1)"
      ],
      "metadata": {
        "colab": {
          "base_uri": "https://localhost:8080/"
        },
        "id": "NBPHMB5OZc19",
        "outputId": "110c7a5d-b779-4274-bd6b-4b44d1dad65c"
      },
      "execution_count": null,
      "outputs": [
        {
          "output_type": "stream",
          "name": "stderr",
          "text": [
            "/usr/local/lib/python3.7/dist-packages/ipykernel_launcher.py:4: UserWarning: To copy construct from a tensor, it is recommended to use sourceTensor.clone().detach() or sourceTensor.clone().detach().requires_grad_(True), rather than torch.tensor(sourceTensor).\n",
            "  after removing the cwd from sys.path.\n"
          ]
        }
      ]
    },
    {
      "cell_type": "code",
      "source": [
        "# Normalize (0-1) fused scores - Unknown specimens\n",
        "import torch\n",
        "import torch.nn.functional as f\n",
        "Normalized_Prob_Fused_Scores_Unknown = f.normalize(torch.tensor(Fused_Scores_Unknown), p=2, dim=1)"
      ],
      "metadata": {
        "colab": {
          "base_uri": "https://localhost:8080/"
        },
        "id": "8TmFFlTYlLfd",
        "outputId": "3c726a50-010c-47af-cc88-b5b6b4adff7b"
      },
      "execution_count": null,
      "outputs": [
        {
          "output_type": "stream",
          "name": "stderr",
          "text": [
            "/usr/local/lib/python3.7/dist-packages/ipykernel_launcher.py:4: UserWarning: To copy construct from a tensor, it is recommended to use sourceTensor.clone().detach() or sourceTensor.clone().detach().requires_grad_(True), rather than torch.tensor(sourceTensor).\n",
            "  after removing the cwd from sys.path.\n"
          ]
        }
      ]
    },
    {
      "cell_type": "markdown",
      "source": [
        "#Define Shannon Entropy"
      ],
      "metadata": {
        "id": "bfVzzx2SlY4-"
      }
    },
    {
      "cell_type": "code",
      "source": [
        "# Shannon Entropy \n",
        "def myEntropy(p, dim = -1, keepdim=False):\n",
        "    return -torch.where(p > 0, p * torch.log(p), p.new([0.0])).sum(dim = dim, keepdim=keepdim) "
      ],
      "metadata": {
        "id": "XWf5OYzAlX3c"
      },
      "execution_count": null,
      "outputs": []
    },
    {
      "cell_type": "markdown",
      "source": [
        "# Compute entropy across all three modalities for both Known and Unknown specimens"
      ],
      "metadata": {
        "id": "_hCsk0IVllMl"
      }
    },
    {
      "cell_type": "code",
      "source": [
        "Entropy_C_CNN_Known = myEntropy(C_CNN_Scores_Known)\n",
        "Entropy_H_CNN_Known = myEntropy(H_CNN_Scores_Known)\n",
        "Entropy_P_CNN_Known = myEntropy(P_CNN_Scores_Known)\n",
        "Entropy_FM_Known = myEntropy(Normalized_Prob_Fused_Scores_Known)"
      ],
      "metadata": {
        "id": "EwcjcH15lsDa"
      },
      "execution_count": null,
      "outputs": []
    },
    {
      "cell_type": "code",
      "source": [
        "Entropy_C_CNN_Unknown = myEntropy(C_CNN_Scores_Unknown)\n",
        "Entropy_H_CNN_Unknown = myEntropy(H_CNN_Scores_Unknown)\n",
        "Entropy_P_CNN_Unknown = myEntropy(P_CNN_Scores_Unknown)\n",
        "Entropy_FM_Unknown = myEntropy(Normalized_Prob_Fused_Scores_Unknown)"
      ],
      "metadata": {
        "id": "vjirUt0TlsGL"
      },
      "execution_count": null,
      "outputs": []
    },
    {
      "cell_type": "markdown",
      "metadata": {
        "id": "kDeZayCn1Xw6"
      },
      "source": [
        "Plot the ROC curves - In this example, we generated the ROC curve based on one single model (FM). This model combines classification scores across all three modalities. The curve shows the performance of our model (i.e. its ability to differentiates between known versus unknown pollen specimens) at different entropy thresholds."
      ]
    },
    {
      "cell_type": "code",
      "source": [
        "import numpy as np\n",
        "from sklearn.metrics import roc_curve, roc_auc_score, f1_score\n",
        "import matplotlib.pyplot as plt\n",
        "\n",
        "\n",
        "def evaluate_openset(scores_closeset, scores_openset):    \n",
        "    y_true = np.array([0] * len(scores_closeset) + [1] * len(scores_openset))\n",
        "    y_discriminator = np.concatenate([scores_closeset, scores_openset])\n",
        "    auc_d, roc_to_plot = plot_roc(y_true, y_discriminator, 'Discriminator ROC')\n",
        "    return auc_d, roc_to_plot\n",
        "\n",
        "\n",
        "def plot_roc(y_true, y_score, title=\"Receiver Operating Characteristic\", **options):\n",
        "    fpr, tpr, thresholds = roc_curve(y_true, y_score)\n",
        "    auc_score = roc_auc_score(y_true, y_score)\n",
        "    roc_to_plot = {'tp':tpr, 'fp':fpr, 'thresh':thresholds, 'auc_score':auc_score}\n",
        "    return auc_score, roc_to_plot\n",
        "\n",
        "predConfscores_known = -np.array(Entropy_FM_Known)\n",
        "predConfscores_novel = -np.array(Entropy_FM_Unknown)\n",
        "\n",
        "roc_score, roc_to_plot = evaluate_openset(-predConfscores_known, -predConfscores_novel)\n",
        "\n",
        "plt.figure(figsize=(9,5), dpi=64, facecolor='w', edgecolor='k')\n",
        "ax = plt.gca()\n",
        "plt.plot(roc_to_plot['fp'], roc_to_plot['tp'], linewidth=2)\n",
        "\n",
        "for tick in ax.xaxis.get_major_ticks():\n",
        "    tick.label.set_fontsize(12) \n",
        "for tick in ax.yaxis.get_major_ticks():\n",
        "    tick.label.set_fontsize(12) \n",
        "plt.grid('on')\n",
        "plt.xlabel('False Positive Rate', fontsize=15)\n",
        "plt.ylabel('True Positive Rate', fontsize=15)\n",
        "plt.title('ROC score {:.5f}'.format(roc_score), fontsize=15)"
      ],
      "metadata": {
        "colab": {
          "base_uri": "https://localhost:8080/",
          "height": 434
        },
        "id": "bgY3iITcjdv2",
        "outputId": "98659f1a-f80f-477a-faf2-bc0fb9cabffb"
      },
      "execution_count": 39,
      "outputs": [
        {
          "output_type": "execute_result",
          "data": {
            "text/plain": [
              "Text(0.5, 1.0, 'ROC Score 0.93939')"
            ]
          },
          "metadata": {},
          "execution_count": 39
        },
        {
          "output_type": "display_data",
          "data": {
            "text/plain": [
              "<Figure size 512x448 with 1 Axes>"
            ],
            "image/png": "[encoded data removed]"
          },
          "metadata": {}
        }
      ]
    },
    {
      "cell_type": "code",
      "execution_count": null,
      "metadata": {
        "colab": {
          "base_uri": "https://localhost:8080/"
        },
        "id": "3eB5A5sJ2mTv",
        "outputId": "ef059e2a-ca25-48c5-9a94-4a48f226b055"
      },
      "outputs": [
        {
          "output_type": "execute_result",
          "data": {
            "text/plain": [
              "{'tp': array([0.        , 0.09090909, 0.36363636, 0.36363636, 0.45454545,\n",
              "        0.45454545, 0.54545455, 0.54545455, 0.63636364, 0.63636364,\n",
              "        0.90909091, 0.90909091, 1.        , 1.        ]),\n",
              " 'fp': array([0.        , 0.        , 0.        , 0.03125   , 0.03125   ,\n",
              "        0.04166667, 0.04166667, 0.0625    , 0.0625    , 0.11458333,\n",
              "        0.11458333, 0.1875    , 0.1875    , 1.        ]),\n",
              " 'thresh': array([3.1006000e+00, 2.1006000e+00, 1.4142737e+00, 1.2290132e+00,\n",
              "        1.1956811e+00, 1.1429478e+00, 1.0422109e+00, 8.8665843e-01,\n",
              "        8.5941952e-01, 5.8310997e-01, 5.5342466e-01, 3.2582155e-01,\n",
              "        2.9276037e-01, 9.6741125e-08], dtype=float32),\n",
              " 'auc_score': 0.9393939393939394}"
            ]
          },
          "metadata": {},
          "execution_count": 57
        }
      ],
      "source": [
        "roc_to_plot"
      ]
    },
    {
      "cell_type": "markdown",
      "source": [
        "# Once the ROC curve is plotted, we can find the optimal entropy threshold that discriminates between known and unknown pollen specimens. This can be achieved by minimizing the index of union (IU) developed by Unal (2017)"
      ],
      "metadata": {
        "id": "5U5KLb5bow6x"
      }
    },
    {
      "cell_type": "code",
      "source": [
        "# Solve for lowest AUC value\n",
        "\n",
        "# First, define variables used to minimize the IU.  \n",
        "\n",
        "import numpy as np \n",
        "import torch\n",
        "tpr = roc_to_plot['tp']\n",
        "\n",
        "fpr = roc_to_plot['fp']\n",
        "\n",
        "thresh = roc_to_plot['thresh']\n",
        "\n",
        "Spe = 1 - np.array(fpr)\n",
        "Sen = np.array(tpr)\n",
        "\n",
        "auc_score = roc_to_plot['auc_score']"
      ],
      "metadata": {
        "id": "lKVg62Gn2mYq"
      },
      "execution_count": null,
      "outputs": []
    },
    {
      "cell_type": "code",
      "source": [
        "# Solve for lowest AUC value\n",
        "\n",
        "# First, define variables used to minimize the IU.  \n",
        "\n",
        "import numpy as np \n",
        "import torch\n",
        "tpr = np.array([0.        , 0.09090909, 0.36363636, 0.36363636, 0.45454545,\n",
        "        0.45454545, 0.54545455, 0.54545455, 0.63636364, 0.63636364,\n",
        "        0.90909091, 0.90909091, 1.        , 1.        ])\n",
        "\n",
        "fpr = np.array([0.        , 0.        , 0.        , 0.03125   , 0.03125   ,\n",
        "        0.04166667, 0.04166667, 0.0625    , 0.0625    , 0.11458333,\n",
        "        0.11458333, 0.1875    , 0.1875    , 1.        ])\n",
        "\n",
        "thresh = np.array([3.1006000e+00, 2.1006000e+00, 1.4142737e+00, 1.2290132e+00,\n",
        "        1.1956811e+00, 1.1429478e+00, 1.0422109e+00, 8.8665843e-01,\n",
        "        8.5941952e-01, 5.8310997e-01, 5.5342466e-01, 3.2582155e-01,\n",
        "        2.9276037e-01, 9.6741125e-08])\n",
        "\n",
        "Spe = 1 - np.array(fpr)\n",
        "Sen = np.array(tpr)\n",
        "\n",
        "auc_score = 0.9393939393939394"
      ],
      "metadata": {
        "id": "Bf1zunZybYI5"
      },
      "execution_count": 1,
      "outputs": []
    },
    {
      "cell_type": "code",
      "source": [
        "# Define the IU and find the argument that minimizes it\n",
        "\n",
        "IU = torch.abs(torch.tensor((Sen - auc_score))) + torch.abs(torch.tensor((Spe - auc_score)))\n",
        "Diff = torch.abs(torch.tensor(Sen-Spe))\n",
        "IU_minimum_index = np.where(IU == IU.min())\n",
        "Diff_minimum_index = np.where(Diff == Diff.min())\n",
        "\n",
        "if torch.numel(torch.tensor(IU_minimum_index)) == 1:\n",
        "  optimal_threshold = thresh[torch.tensor(IU_minimum_index).item()]\n",
        "else:\n",
        "  optimal_threshold = thresh[torch.tensor(Diff_minimum_index).item()]"
      ],
      "metadata": {
        "id": "pCMTs8bI0Gns",
        "colab": {
          "base_uri": "https://localhost:8080/"
        },
        "outputId": "a7ce730c-cd21-4d64-e5c4-dd080ab87a4f"
      },
      "execution_count": 2,
      "outputs": [
        {
          "output_type": "stream",
          "name": "stderr",
          "text": [
            "/usr/local/lib/python3.7/dist-packages/ipykernel_launcher.py:8: UserWarning: Creating a tensor from a list of numpy.ndarrays is extremely slow. Please consider converting the list to a single numpy.ndarray with numpy.array() before converting to a tensor. (Triggered internally at  ../torch/csrc/utils/tensor_new.cpp:201.)\n",
            "  \n"
          ]
        }
      ]
    },
    {
      "cell_type": "markdown",
      "source": [
        "# Retrieve optimal Shannon entropy threshold"
      ],
      "metadata": {
        "id": "aWCmltwDkFz5"
      }
    },
    {
      "cell_type": "code",
      "source": [
        "# Optimal threshold \n",
        "print(optimal_threshold)"
      ],
      "metadata": {
        "colab": {
          "base_uri": "https://localhost:8080/"
        },
        "id": "I7cZ-E05C-YN",
        "outputId": "2217c525-55af-45e4-8ab8-f71242e8aca7"
      },
      "execution_count": 3,
      "outputs": [
        {
          "output_type": "stream",
          "name": "stdout",
          "text": [
            "0.55342466\n"
          ]
        }
      ]
    },
    {
      "cell_type": "markdown",
      "source": [
        "# Show optimal threshold on ROC curve"
      ],
      "metadata": {
        "id": "nBQvA5qkkFGs"
      }
    },
    {
      "cell_type": "code",
      "source": [
        "import numpy as np\n",
        "from sklearn.metrics import roc_curve, roc_auc_score, f1_score\n",
        "import matplotlib.pyplot as plt\n",
        "\n",
        "\n",
        "def evaluate_openset(scores_closeset, scores_openset):    \n",
        "    y_true = np.array([0] * len(scores_closeset) + [1] * len(scores_openset))\n",
        "    y_discriminator = np.concatenate([scores_closeset, scores_openset])\n",
        "    auc_d, roc_to_plot = plot_roc(y_true, y_discriminator, 'Discriminator ROC')\n",
        "    return auc_d, roc_to_plot\n",
        "\n",
        "\n",
        "def plot_roc(y_true, y_score, title=\"Receiver Operating Characteristic\", **options):\n",
        "    fpr, tpr, thresholds = roc_curve(y_true, y_score)\n",
        "    auc_score = roc_auc_score(y_true, y_score)\n",
        "    roc_to_plot = {'tp':tpr, 'fp':fpr, 'thresh':thresholds, 'auc_score':auc_score}\n",
        "    return auc_score, roc_to_plot\n",
        "\n",
        "plt.figure(figsize=(8,7), dpi=64, facecolor='w', edgecolor='k')\n",
        "ax = plt.gca()\n",
        "plt.plot(fpr, tpr, linewidth=3)\n",
        "plt.plot(fpr[10],tpr[10], 'r*', markersize=15)\n",
        "for tick in ax.xaxis.get_major_ticks():\n",
        "    tick.label.set_fontsize(12) \n",
        "for tick in ax.yaxis.get_major_ticks():\n",
        "    tick.label.set_fontsize(12) \n",
        "plt.grid('on')\n",
        "plt.xlabel('False Positive Rate', fontsize=15)\n",
        "plt.ylabel('True Positive Rate', fontsize=15)\n",
        "plt.title('Novelty Detection Simulation', fontsize=15)"
      ],
      "metadata": {
        "colab": {
          "base_uri": "https://localhost:8080/",
          "height": 434
        },
        "id": "osEt4eu4dAdA",
        "outputId": "ebb5b64f-05ce-479e-899a-5e5d3b19cac9"
      },
      "execution_count": 49,
      "outputs": [
        {
          "output_type": "execute_result",
          "data": {
            "text/plain": [
              "Text(0.5, 1.0, 'Novelty Detection Simulation')"
            ]
          },
          "metadata": {},
          "execution_count": 49
        },
        {
          "output_type": "display_data",
          "data": {
            "text/plain": [
              "<Figure size 512x448 with 1 Axes>"
            ],
            "image/png": "[encoded data removed]"
          },
          "metadata": {}
        }
      ]
    }
  ],
  "metadata": {
    "accelerator": "GPU",
    "colab": {
      "provenance": [],
      "collapsed_sections": [],
      "mount_file_id": "1muKkNnHltTzzzrmp1NaCtvqYgQngC9oC",
      "authorship_tag": "ABX9TyPJLRBm0MpPOGMM7jLV+E4m",
      "include_colab_link": true
    },
    "gpuClass": "standard",
    "kernelspec": {
      "display_name": "Python 3",
      "name": "python3"
    },
    "language_info": {
      "name": "python"
    }
  },
  "nbformat": 4,
  "nbformat_minor": 0
}